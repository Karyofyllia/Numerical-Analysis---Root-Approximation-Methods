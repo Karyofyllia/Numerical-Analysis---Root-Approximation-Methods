{
 "cells": [
  {
   "cell_type": "code",
   "execution_count": 1,
   "id": "a9e54146",
   "metadata": {},
   "outputs": [],
   "source": [
    "import math\n",
    "import matplotlib.pyplot as plt\n",
    "import numpy as np\n",
    "import random\n",
    "from scipy.linalg import solve\n",
    "import decimal\n",
    "\n"
   ]
  },
  {
   "cell_type": "code",
   "execution_count": 2,
   "id": "244e1486",
   "metadata": {},
   "outputs": [
    {
     "name": "stdout",
     "output_type": "stream",
     "text": [
      "39.471504353021075  f(-2)\n",
      "25.12087119364365  f(2)\n",
      "-1.1854758870945021  f(1)\n"
     ]
    }
   ],
   "source": [
    "def f(x):\n",
    "    result =math.e**((math.sin(x))**3) + (x**6) - (2*(x)**4) - (x**3) - 1\n",
    "    return result\n",
    "print(f(-2),' f(-2)')\n",
    "print(f(2),' f(2)')\n",
    "print(f(1),' f(1)')"
   ]
  },
  {
   "cell_type": "code",
   "execution_count": 3,
   "id": "f8186920",
   "metadata": {},
   "outputs": [],
   "source": [
    "def f2(x):\n",
    "    result= 94*(math.cos(x)**3)-24*math.cos(x)+177*(math.sin(x)**2)-108*(math.sin(x)**4)-72*(math.cos(x)**3)*(math.sin(x)**2)-65\n",
    "    return result"
   ]
  },
  {
   "cell_type": "code",
   "execution_count": 4,
   "id": "33265186",
   "metadata": {},
   "outputs": [],
   "source": [
    "e = 1/2 * 10**-5\n",
    "\n",
    "def bisection_method(a,b,iterat):\n",
    "    \n",
    "   \n",
    "    if  f(a)*f(b)<0:\n",
    "        m = (a + b ) / 2\n",
    "        if (np.abs(f(m)) < e):\n",
    "            m= m + e\n",
    "            return m, iterat\n",
    "\n",
    "        if f(a)*f(m)<0:\n",
    "            iterat=iterat+1\n",
    "            return bisection_method(a,m,iterat)\n",
    "        else:\n",
    "            iterat=iterat+1\n",
    "            return bisection_method(m,b,iterat)\n",
    "\n"
   ]
  },
  {
   "cell_type": "code",
   "execution_count": 5,
   "id": "578a12bf",
   "metadata": {},
   "outputs": [
    {
     "data": {
      "text/plain": [
       "(-1.1976182528686523, 19)"
      ]
     },
     "execution_count": 5,
     "metadata": {},
     "output_type": "execute_result"
    }
   ],
   "source": [
    "bisection_method(-2,1,0)\n"
   ]
  },
  {
   "cell_type": "code",
   "execution_count": 6,
   "id": "56e5d6b3",
   "metadata": {},
   "outputs": [
    {
     "data": {
      "text/plain": [
       "(1.5301382473754883, 19)"
      ]
     },
     "execution_count": 6,
     "metadata": {},
     "output_type": "execute_result"
    }
   ],
   "source": [
    "bisection_method(1,2,0)"
   ]
  },
  {
   "cell_type": "code",
   "execution_count": 7,
   "id": "5e83f00e",
   "metadata": {},
   "outputs": [],
   "source": [
    "def derf(x):\n",
    "    result = 3*math.e**((math.sin(x))**3)*math.cos(x)*(math.sin(x))**2 + 6*x**5 -8*x**3 - 3*x**2\n",
    "    return result"
   ]
  },
  {
   "cell_type": "code",
   "execution_count": 8,
   "id": "6d249a6c",
   "metadata": {},
   "outputs": [],
   "source": [
    "\n",
    "def newton_raphson_method(x):\n",
    "    iterat=0\n",
    "    while (np.abs(f(x)) > e):\n",
    "        iterat=iterat+1\n",
    "        x = x - f(x)/derf(x)\n",
    "        #print(x, iterat)\n",
    "    return x, iterat\n"
   ]
  },
  {
   "cell_type": "code",
   "execution_count": 9,
   "id": "4046e781",
   "metadata": {},
   "outputs": [
    {
     "data": {
      "text/plain": [
       "(1.530133508276014, 6)"
      ]
     },
     "execution_count": 9,
     "metadata": {},
     "output_type": "execute_result"
    }
   ],
   "source": [
    "newton_raphson_method(2)"
   ]
  },
  {
   "cell_type": "code",
   "execution_count": 10,
   "id": "a71df60f",
   "metadata": {},
   "outputs": [
    {
     "data": {
      "text/plain": [
       "(-1.1976237963358904, 7)"
      ]
     },
     "execution_count": 10,
     "metadata": {},
     "output_type": "execute_result"
    }
   ],
   "source": [
    "newton_raphson_method(-2)"
   ]
  },
  {
   "cell_type": "code",
   "execution_count": 11,
   "id": "1aca461f",
   "metadata": {},
   "outputs": [
    {
     "data": {
      "text/plain": [
       "(0, 0)"
      ]
     },
     "execution_count": 11,
     "metadata": {},
     "output_type": "execute_result"
    }
   ],
   "source": [
    "newton_raphson_method(0)"
   ]
  },
  {
   "cell_type": "code",
   "execution_count": 12,
   "id": "37e12b01",
   "metadata": {},
   "outputs": [],
   "source": [
    "def secant_method(a,b):\n",
    "    iterat=0\n",
    "    while (np.abs(f(a)- f(b)) > e):\n",
    "        iterat=iterat+1\n",
    "        temp=a\n",
    "        a = a - (a-b) * f(a)/(f(a)-f(b))\n",
    "        b= temp\n",
    "    return a,iterat"
   ]
  },
  {
   "cell_type": "code",
   "execution_count": 13,
   "id": "1f97644a",
   "metadata": {},
   "outputs": [
    {
     "data": {
      "text/plain": [
       "(-1.1976237221339254, 14)"
      ]
     },
     "execution_count": 13,
     "metadata": {},
     "output_type": "execute_result"
    }
   ],
   "source": [
    "secant_method(-2,2)"
   ]
  },
  {
   "cell_type": "code",
   "execution_count": 14,
   "id": "1fc9ec71",
   "metadata": {},
   "outputs": [
    {
     "data": {
      "text/plain": [
       "(0.0, 2)"
      ]
     },
     "execution_count": 14,
     "metadata": {},
     "output_type": "execute_result"
    }
   ],
   "source": [
    "secant_method(-2,0) "
   ]
  },
  {
   "cell_type": "code",
   "execution_count": 15,
   "id": "b62363be",
   "metadata": {},
   "outputs": [],
   "source": [
    "def dderf(x):\n",
    "    result= 9*math.e**((math.sin(x))**3)* ((math.cos(x))**2)*(math.sin(x)**4)-3*math.e**((math.sin(x))**3)*(math.sin(x)**3)+6*math.e**((math.sin(x))**3)*((math.cos(x))**2)*(math.sin(x))+30*x**4-24*x**2-6*x\n",
    "    return result"
   ]
  },
  {
   "cell_type": "code",
   "execution_count": 16,
   "id": "f7c0204d",
   "metadata": {},
   "outputs": [],
   "source": [
    "def derf2(x):\n",
    "    result= 216*(math.cos(x)**2)*(math.sin(x)**3)-432*math.cos(x)*(math.sin(x)**3)-144*(math.cos(x)**4)*math.sin(x)-282*(math.cos(x)**2)*math.sin(x)+354*math.cos(x)*math.sin(x)+24*math.sin(x)\n",
    "    return result"
   ]
  },
  {
   "cell_type": "code",
   "execution_count": 17,
   "id": "13045364",
   "metadata": {},
   "outputs": [],
   "source": [
    "def dderf2(x):\n",
    "    result = (432-432*math.cos(x))*(math.sin(x)**4)+(1224*(math.cos(x)**2)-1296*(math.cos(x)**2)+564*math.cos(x)-354)*math.sin(x)**2-144*math.cos(x)**5-282*math.cos(x)**3+354*math.cos(x)**2+24*math.cos(x)\n",
    "    return result"
   ]
  },
  {
   "cell_type": "code",
   "execution_count": 18,
   "id": "01a3c87c",
   "metadata": {},
   "outputs": [],
   "source": [
    "def modified_NR(f2,derf2,dderf2,x):\n",
    "    iterat=0\n",
    "    while (np.abs(f2(x)) > e):\n",
    "        iterat=iterat+1\n",
    "        x= x - 1/((derf2(x)/f2(x)) - 1/2*(dderf2(x)/derf2(x))) #modified\n",
    "    return x,iterat"
   ]
  },
  {
   "cell_type": "code",
   "execution_count": 19,
   "id": "b54d57f8",
   "metadata": {},
   "outputs": [
    {
     "data": {
      "text/plain": [
       "(1.0388850369295233, 243)"
      ]
     },
     "execution_count": 19,
     "metadata": {},
     "output_type": "execute_result"
    }
   ],
   "source": [
    "modified_NR(f2,derf2,dderf2,1)"
   ]
  },
  {
   "cell_type": "code",
   "execution_count": 20,
   "id": "6cdf813a",
   "metadata": {},
   "outputs": [
    {
     "data": {
      "text/plain": [
       "(2.300523985643211, 6)"
      ]
     },
     "execution_count": 20,
     "metadata": {},
     "output_type": "execute_result"
    }
   ],
   "source": [
    "modified_NR(f2,derf2,dderf2,3)"
   ]
  },
  {
   "cell_type": "code",
   "execution_count": 21,
   "id": "c202900b",
   "metadata": {},
   "outputs": [
    {
     "data": {
      "text/plain": [
       "(5.2442785114121895, 294)"
      ]
     },
     "execution_count": 21,
     "metadata": {},
     "output_type": "execute_result"
    }
   ],
   "source": [
    "modified_NR(f2,derf2,dderf2,2)"
   ]
  },
  {
   "cell_type": "code",
   "execution_count": 22,
   "id": "eda77ba2",
   "metadata": {},
   "outputs": [],
   "source": [
    "def modified_BM(a,b,iterat):    \n",
    "   \n",
    "    if  f2(a)*f2(b)<0:\n",
    "        m = random.uniform(a,b) #modified\n",
    "        if (np.abs(f2(m)) < e):\n",
    "            m= m + e\n",
    "            return m, iterat\n",
    "\n",
    "        if f2(a)*f2(m)<0:\n",
    "            iterat=iterat+1\n",
    "            return modified_BM(a,m,iterat)\n",
    "        else:\n",
    "            iterat=iterat+1\n",
    "            return modified_BM(m,b,iterat)\n"
   ]
  },
  {
   "cell_type": "code",
   "execution_count": 23,
   "id": "fcdffd36",
   "metadata": {},
   "outputs": [
    {
     "data": {
      "text/plain": [
       "(1.051962471708053, 7)"
      ]
     },
     "execution_count": 23,
     "metadata": {},
     "output_type": "execute_result"
    }
   ],
   "source": [
    "modified_BM(0.9,2,0)"
   ]
  },
  {
   "cell_type": "code",
   "execution_count": 24,
   "id": "031341ac",
   "metadata": {},
   "outputs": [],
   "source": [
    "def modified_SM(x1,x2,x3): \n",
    "    iterat=0\n",
    "    q=f2(x1)/f2(x2)\n",
    "    r=f2(x3)/f2(x2)\n",
    "    s=f2(x3)/f2(x1)\n",
    "    while (np.abs(f2(x3)) > e):\n",
    "        iterat=iterat+1\n",
    "        x4 = x3 - (r*(r-q)*(x3-x2)+(1-r)*s*(x3-x1))/((q-1)*(r-1)*(s-1))\n",
    "        x1=x2\n",
    "        x2=x3\n",
    "        x3=x4\n",
    "    return x3,iterat"
   ]
  },
  {
   "cell_type": "code",
   "execution_count": 25,
   "id": "b837789d",
   "metadata": {
    "scrolled": true
   },
   "outputs": [
    {
     "data": {
      "text/plain": [
       "(1.0391315493829685, 291)"
      ]
     },
     "execution_count": 25,
     "metadata": {},
     "output_type": "execute_result"
    }
   ],
   "source": [
    "modified_SM(0,1,3)\n"
   ]
  },
  {
   "cell_type": "code",
   "execution_count": 26,
   "id": "852d2956",
   "metadata": {},
   "outputs": [],
   "source": [
    "def find_LPU(A):\n",
    "    \n",
    "    L = np.zeros((A.shape[0],A.shape[1]))  #initialize with 0\n",
    "    P= np.diag(np.ones(A.shape[0]))        #initialize: 1 diagonial 0 elsewhere.\n",
    "    \n",
    "    for j in range(A.shape[0]-1): \n",
    "            if (A[j][1]==0 or A[j][1]<A[j+1][1]):\n",
    "                Pnew= np.diag(np.ones(A.shape[0]))\n",
    "                A[[j+1,j],:]=A[[j,j+1],:] \n",
    "                \n",
    "                Pnew[[j+1,j],:]=Pnew[[j,j+1],:] #for every line shift of A , do the same to P.\n",
    "                P = np.dot(Pnew,P)              #multiple older with present P\n",
    "\n",
    "    for i in range(0, A.shape[0]): \n",
    "       \n",
    "            \n",
    "        L[i][i]=1\n",
    "\n",
    "        for j in range(i + 1, A.shape[0]): #Gauss\n",
    "            if (A[i][j]): \n",
    "                l=A[j][i]/A[i][i]\n",
    "                A[j] = A[j] - A[i] * (A[j][i]/A[i][i])\n",
    "                L[j][i] = l\n",
    "        U=A\n",
    "                \n",
    "    return L,P,U"
   ]
  },
  {
   "cell_type": "code",
   "execution_count": 32,
   "id": "f89d3b1d",
   "metadata": {},
   "outputs": [],
   "source": [
    "def PALU(A,b):\n",
    "    L,P,U= find_LPU(A)\n",
    "    b = np.dot(P,b) \n",
    "    print(\"L\\n\",L)\n",
    "    print(\"P\\n\",P)\n",
    "    print(\"U\\n\",U)\n",
    "    print(b)\n",
    "    y = solve(L,b) #Ly=b\n",
    "    print(\"y= \",y) \n",
    "    x=solve(U,y)   #Ux=y\n",
    "    \n",
    "    return x\n",
    "    "
   ]
  },
  {
   "cell_type": "code",
   "execution_count": 33,
   "id": "67abced2",
   "metadata": {},
   "outputs": [
    {
     "name": "stdout",
     "output_type": "stream",
     "text": [
      "L\n",
      " [[ 1.    0.    0.  ]\n",
      " [ 0.25  1.    0.  ]\n",
      " [ 0.5  -0.5   1.  ]]\n",
      "P\n",
      " [[0. 1. 0.]\n",
      " [0. 0. 1.]\n",
      " [1. 0. 0.]]\n",
      "U\n",
      " [[ 4  4 -4]\n",
      " [ 0  2  2]\n",
      " [ 0  0  8]]\n",
      "[0. 6. 5.]\n",
      "y=  [0. 6. 8.]\n"
     ]
    },
    {
     "data": {
      "text/plain": [
       "array([-1.,  2.,  1.])"
      ]
     },
     "execution_count": 33,
     "metadata": {},
     "output_type": "execute_result"
    }
   ],
   "source": [
    "M= np.array([[2,1,5],[4,4,-4],[1,3,1]])\n",
    "b=np.array([5,0,6])\n",
    "PALU(M,b)"
   ]
  },
  {
   "cell_type": "code",
   "execution_count": 29,
   "id": "4617cac6",
   "metadata": {},
   "outputs": [],
   "source": [
    "#K=np.array([[7, 3, -1, 2], [3, 8, 1, -4], [-1, 1, 4, -1], [2, -4, -1, 6]])\n",
    "#find_LPU(K)"
   ]
  },
  {
   "cell_type": "code",
   "execution_count": 30,
   "id": "07ba6b50",
   "metadata": {},
   "outputs": [],
   "source": [
    "def cholesky(A):\n",
    "    L = np.array([[0.0] * A.shape[0] for i in range(A.shape[0])])\n",
    "   \n",
    "    for i in range(A.shape[0]):\n",
    "        for j in range(i+1):\n",
    "            sum_ch = sum(L[i][k] * L[j][k] for k in range(j))\n",
    "            \n",
    "            if (i == j): \n",
    "                L[i][j] = math.sqrt(A[i][i] - sum_ch)\n",
    "            else:\n",
    "                L[i][j] = (1.0 / L[j][j] * (A[i][j] - sum_ch))\n",
    "    return L\n",
    " "
   ]
  },
  {
   "cell_type": "code",
   "execution_count": 31,
   "id": "61919185",
   "metadata": {},
   "outputs": [
    {
     "name": "stdout",
     "output_type": "stream",
     "text": [
      "A:\n",
      " [[ 6  3  4  8]\n",
      " [ 3  6  5  1]\n",
      " [ 4  5 10  7]\n",
      " [ 8  1  7 25]]\n",
      "L:\n",
      " [[ 2.44948974  0.          0.          0.        ]\n",
      " [ 1.22474487  2.12132034  0.          0.        ]\n",
      " [ 1.63299316  1.41421356  2.30940108  0.        ]\n",
      " [ 3.26598632 -1.41421356  1.58771324  3.13249102]]\n"
     ]
    }
   ],
   "source": [
    "A = np.array([[6, 3, 4, 8], [3, 6, 5, 1], [4, 5, 10, 7], [8, 1, 7, 25]])\n",
    "L = cholesky(A)\n",
    "print(\"A:\\n\",A)\n",
    "\n",
    "\n",
    "print(\"L:\\n\",L)\n"
   ]
  },
  {
   "cell_type": "code",
   "execution_count": null,
   "id": "55009596",
   "metadata": {},
   "outputs": [],
   "source": []
  },
  {
   "cell_type": "code",
   "execution_count": null,
   "id": "e0fe2a88",
   "metadata": {},
   "outputs": [],
   "source": []
  },
  {
   "cell_type": "code",
   "execution_count": null,
   "id": "3995a681",
   "metadata": {},
   "outputs": [],
   "source": []
  },
  {
   "cell_type": "code",
   "execution_count": null,
   "id": "c0263c65",
   "metadata": {},
   "outputs": [],
   "source": []
  }
 ],
 "metadata": {
  "kernelspec": {
   "display_name": "Python 3 (ipykernel)",
   "language": "python",
   "name": "python3"
  },
  "language_info": {
   "codemirror_mode": {
    "name": "ipython",
    "version": 3
   },
   "file_extension": ".py",
   "mimetype": "text/x-python",
   "name": "python",
   "nbconvert_exporter": "python",
   "pygments_lexer": "ipython3",
   "version": "3.9.13"
  }
 },
 "nbformat": 4,
 "nbformat_minor": 5
}
